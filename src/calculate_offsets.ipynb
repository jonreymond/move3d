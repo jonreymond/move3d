{
 "cells": [
  {
   "cell_type": "code",
   "execution_count": 1,
   "id": "61d3e6a9",
   "metadata": {},
   "outputs": [],
   "source": [
    "import cv2\n",
    "import numpy as np\n",
    "import kineticstoolkit.lab as ktk\n",
    "from glob import glob\n",
    "from IPython.display import display"
   ]
  },
  {
   "cell_type": "code",
   "execution_count": 2,
   "id": "4a810184",
   "metadata": {},
   "outputs": [],
   "source": [
    "# --- Select multiple files from dropdown ---\n",
    "from glob import glob\n",
    "import os\n",
    "\n",
    "\n",
    "def get_all_files(folder_path, extension):\n",
    "    search_path = os.path.join(folder_path, \"**\", f\"*.{extension}\")\n",
    "    return sorted(glob(search_path, recursive=True))\n"
   ]
  },
  {
   "cell_type": "code",
   "execution_count": 4,
   "id": "ac61ec90",
   "metadata": {},
   "outputs": [
    {
     "name": "stdout",
     "output_type": "stream",
     "text": [
      "MP4 FILES:\n",
      "['C:\\\\hackaton\\\\new\\\\20241021\\\\camera\\\\C0057.MP4', 'C:\\\\hackaton\\\\new\\\\20241021\\\\camera\\\\C0058.MP4']\n",
      "['C:\\\\hackaton\\\\new\\\\20241021\\\\camera\\\\C0057M01.XML', 'C:\\\\hackaton\\\\new\\\\20241021\\\\camera\\\\C0058M01.XML']\n",
      "[\"C:\\\\hackaton\\\\new\\\\20241021\\\\c3d\\\\T2G'002_20241021_Rehab_D4_07.c3d\", \"C:\\\\hackaton\\\\new\\\\20241021\\\\c3d\\\\T2G'002_20241021_Rehab_D4_static.c3d\", 'C:\\\\hackaton\\\\new\\\\20241021\\\\c3d\\\\T2G002_20241021_Rehab_D4_01.c3d', 'C:\\\\hackaton\\\\new\\\\20241021\\\\c3d\\\\T2G002_20241021_Rehab_D4_06.c3d']\n"
     ]
    }
   ],
   "source": [
    "folder_videos = r\"C:\\hackaton\\new\\20241021\\camera\"\n",
    "folder_c3d = r\"C:\\hackaton\\new\\20241021\\c3d\"\n",
    "\n",
    "mp4_files = get_all_files(folder_videos, \"mp4\")\n",
    "xml_files = get_all_files(folder_videos, \"xml\")\n",
    "c3d_files = get_all_files(folder_c3d, \"c3d\")\n",
    "\n",
    "\n",
    "print(\"MP4 FILES:\")\n",
    "print(mp4_files)\n",
    "print (xml_files)\n",
    "print(c3d_files)"
   ]
  },
  {
   "cell_type": "code",
   "execution_count": 12,
   "id": "339b142d",
   "metadata": {},
   "outputs": [],
   "source": [
    "import numpy as np\n",
    "from scipy.signal import correlate\n",
    "\n",
    "def normalize_signal(signal):\n",
    "    return (signal - np.mean(signal)) / np.std(signal)\n",
    "\n",
    "\n",
    "def estimate_offset(video_signal, c3d_signal, fps_video):\n",
    "    # Normalize\n",
    "    video_signal = (video_signal - np.mean(video_signal)) / np.std(video_signal)\n",
    "    c3d_signal = (c3d_signal - np.mean(c3d_signal)) / np.std(c3d_signal)\n",
    "\n",
    "    min_len = min(len(video_signal), len(c3d_signal))\n",
    "    v = video_signal[:min_len]\n",
    "    c = c3d_signal[:min_len]\n",
    "\n",
    "    correlation = correlate(v, c, mode='full')\n",
    "    lags = np.arange(-min_len + 1, min_len)\n",
    "    best_lag = lags[np.argmax(correlation)]\n",
    "    offset_seconds = best_lag / fps_video\n",
    "\n",
    "    return offset_seconds, best_lag, correlation, lags\n",
    "\n"
   ]
  },
  {
   "cell_type": "code",
   "execution_count": 13,
   "id": "7ce279b9",
   "metadata": {},
   "outputs": [],
   "source": [
    "import cv2\n",
    "import numpy as np\n",
    "\n",
    "def extract_video_motion_signal(video_path, max_frames=1000):\n",
    "    cap = cv2.VideoCapture(video_path)\n",
    "    motion_signal = []\n",
    "\n",
    "    ret, prev = cap.read()\n",
    "    if not ret:\n",
    "        raise ValueError(f\"Cannot read first frame from video: {video_path}\")\n",
    "    prev_gray = cv2.cvtColor(prev, cv2.COLOR_BGR2GRAY)\n",
    "\n",
    "    while ret and len(motion_signal) < max_frames:\n",
    "        ret, frame = cap.read()\n",
    "        if not ret:\n",
    "            break\n",
    "        gray = cv2.cvtColor(frame, cv2.COLOR_BGR2GRAY)\n",
    "        diff = cv2.absdiff(prev_gray, gray)\n",
    "        motion = np.sum(diff)  # Sum of pixel differences\n",
    "        motion_signal.append(motion)\n",
    "        prev_gray = gray\n",
    "\n",
    "    cap.release()\n",
    "    return np.array(motion_signal)\n"
   ]
  },
  {
   "cell_type": "code",
   "execution_count": 14,
   "id": "71c6c119",
   "metadata": {},
   "outputs": [],
   "source": [
    "import ezc3d\n",
    "\n",
    "def extract_c3d_motion_signal(c3d_path):\n",
    "    c3d = ezc3d.c3d(c3d_path)\n",
    "    points = c3d[\"data\"][\"points\"][:3]  # X, Y, Z only (ignore residual)\n",
    "\n",
    "    # Compute per-frame total motion across all markers\n",
    "    diffs = np.diff(points, axis=2)  # shape: (3, markers, frames-1)\n",
    "    motion = np.linalg.norm(diffs, axis=0)  # Euclidean norm per marker per frame\n",
    "    total_motion = np.sum(motion, axis=0)  # Total motion per frame\n",
    "    return total_motion\n"
   ]
  },
  {
   "cell_type": "code",
   "execution_count": 15,
   "id": "01dde768",
   "metadata": {},
   "outputs": [
    {
     "name": "stdout",
     "output_type": "stream",
     "text": [
      "Comparing: C0057.MP4 vs T2G'002_20241021_Rehab_D4_07.c3d\n",
      "Comparing: C0057.MP4 vs T2G'002_20241021_Rehab_D4_static.c3d\n",
      "Comparing: C0057.MP4 vs T2G002_20241021_Rehab_D4_01.c3d\n",
      "Comparing: C0057.MP4 vs T2G002_20241021_Rehab_D4_06.c3d\n",
      "Comparing: C0058.MP4 vs T2G'002_20241021_Rehab_D4_07.c3d\n",
      "Comparing: C0058.MP4 vs T2G'002_20241021_Rehab_D4_static.c3d\n",
      "Comparing: C0058.MP4 vs T2G002_20241021_Rehab_D4_01.c3d\n",
      "Comparing: C0058.MP4 vs T2G002_20241021_Rehab_D4_06.c3d\n"
     ]
    }
   ],
   "source": [
    "import matplotlib.pyplot as plt\n",
    "\n",
    "offsets = []\n",
    "\n",
    "for video_path in mp4_files:\n",
    "    for c3d_path in c3d_files:\n",
    "        video_name = os.path.basename(video_path)\n",
    "        c3d_name = os.path.basename(c3d_path)\n",
    "        print(f\"Comparing: {video_name} vs {c3d_name}\")\n",
    "\n",
    "        try:\n",
    "            video_signal = extract_video_motion_signal(video_path)\n",
    "            c3d_signal = extract_c3d_motion_signal(c3d_path)\n",
    "\n",
    "            offset_sec, lag, correlation, lags = estimate_offset(video_signal, c3d_signal, fps_video=15)\n",
    "\n",
    "            # Save result\n",
    "            offsets.append({\n",
    "                \"video\": video_name,\n",
    "                \"c3d\": c3d_name,\n",
    "                \"offset_seconds\": offset_sec,\n",
    "                \"lag_frames\": lag\n",
    "            })\n",
    "\n",
    "            # Plot and save convolution graph\n",
    "            plt.figure(figsize=(10, 4))\n",
    "            plt.plot(lags, correlation)\n",
    "            plt.title(f\"Cross-Correlation: {video_name} vs {c3d_name}\\nOffset = {offset_sec:.2f}s\")\n",
    "            plt.xlabel(\"Lag (frames)\")\n",
    "            plt.ylabel(\"Correlation\")\n",
    "            plt.axvline(lag, color=\"red\", linestyle=\"--\", label=f\"Best Lag: {lag}\")\n",
    "            plt.legend()\n",
    "            plt.tight_layout()\n",
    "\n",
    "            # Save plot (optional)\n",
    "            plot_name = f\"corr_{video_name.replace('.mp4','')}_{c3d_name.replace('.c3d','')}.png\"\n",
    "            plt.savefig(plot_name)\n",
    "            plt.close()\n",
    "\n",
    "        except Exception as e:\n",
    "            print(f\"❌ Failed: {video_name} vs {c3d_name} — {e}\")\n",
    "\n"
   ]
  },
  {
   "cell_type": "code",
   "execution_count": 16,
   "id": "ff271ccf",
   "metadata": {},
   "outputs": [
    {
     "name": "stdout",
     "output_type": "stream",
     "text": [
      "       video                                   c3d  offset_seconds  lag_frames\n",
      "0  C0057.MP4      T2G'002_20241021_Rehab_D4_07.c3d      -66.600000        -999\n",
      "1  C0057.MP4  T2G'002_20241021_Rehab_D4_static.c3d       -7.466667        -112\n",
      "2  C0057.MP4       T2G002_20241021_Rehab_D4_01.c3d      -18.600000        -279\n",
      "3  C0057.MP4       T2G002_20241021_Rehab_D4_06.c3d      -66.600000        -999\n",
      "4  C0058.MP4      T2G'002_20241021_Rehab_D4_07.c3d      -66.600000        -999\n",
      "5  C0058.MP4  T2G'002_20241021_Rehab_D4_static.c3d      -15.200000        -228\n",
      "6  C0058.MP4       T2G002_20241021_Rehab_D4_01.c3d      -29.933333        -449\n",
      "7  C0058.MP4       T2G002_20241021_Rehab_D4_06.c3d      -66.600000        -999\n"
     ]
    }
   ],
   "source": [
    "import pandas as pd\n",
    "\n",
    "df_offsets = pd.DataFrame(offsets)\n",
    "print(df_offsets)\n"
   ]
  }
 ],
 "metadata": {
  "kernelspec": {
   "display_name": "move3d",
   "language": "python",
   "name": "python3"
  },
  "language_info": {
   "codemirror_mode": {
    "name": "ipython",
    "version": 3
   },
   "file_extension": ".py",
   "mimetype": "text/x-python",
   "name": "python",
   "nbconvert_exporter": "python",
   "pygments_lexer": "ipython3",
   "version": "3.11.12"
  }
 },
 "nbformat": 4,
 "nbformat_minor": 5
}
