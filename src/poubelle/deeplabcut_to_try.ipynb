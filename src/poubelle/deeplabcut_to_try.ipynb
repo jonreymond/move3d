{
 "cells": [
  {
   "cell_type": "markdown",
   "id": "c852e58e",
   "metadata": {},
   "source": [
    "# Sapiens"
   ]
  },
  {
   "cell_type": "code",
   "execution_count": 1,
   "id": "e7f3b394",
   "metadata": {},
   "outputs": [],
   "source": [
    "# !pip install deeplabcut\n",
    "# !pip install tensorflow\n",
    "# !pip install tensorpack\n",
    "# !pip install tf_slim"
   ]
  },
  {
   "cell_type": "code",
   "execution_count": 2,
   "id": "4859fc8a",
   "metadata": {},
   "outputs": [
    {
     "name": "stdout",
     "output_type": "stream",
     "text": [
      "Loading DLC 3.0.0rc8...\n"
     ]
    },
    {
     "name": "stderr",
     "output_type": "stream",
     "text": [
      "c:\\Users\\liogr\\anaconda3\\envs\\move3d\\Lib\\site-packages\\tqdm\\auto.py:21: TqdmWarning: IProgress not found. Please update jupyter and ipywidgets. See https://ipywidgets.readthedocs.io/en/stable/user_install.html\n",
      "  from .autonotebook import tqdm as notebook_tqdm\n"
     ]
    }
   ],
   "source": [
    "import deeplabcut"
   ]
  },
  {
   "cell_type": "code",
   "execution_count": 3,
   "id": "495f1053",
   "metadata": {},
   "outputs": [],
   "source": [
    "import os"
   ]
  },
  {
   "cell_type": "code",
   "execution_count": 4,
   "id": "c889f2b3",
   "metadata": {},
   "outputs": [],
   "source": [
    "# Replace the following with your own details:\n",
    "video_path = r'C:\\Users\\liogr\\Documents\\Etudes\\MA2\\Hackathon\\move3d\\3dmotion\\20250326\\camera\\C0110.MP4'\n",
    "assert os.path.exists(video_path), f\"File not found: {video_path}\""
   ]
  },
  {
   "cell_type": "code",
   "execution_count": 5,
   "id": "352d9c38",
   "metadata": {},
   "outputs": [
    {
     "name": "stdout",
     "output_type": "stream",
     "text": [
      "Project \"C:\\Users\\liogr\\Documents\\Etudes\\MA2\\Hackathon\\move3d\\src\\move3d_project-lio-2025-04-23\" already exists!\n"
     ]
    },
    {
     "data": {
      "text/plain": [
       "'C:\\\\Users\\\\liogr\\\\Documents\\\\Etudes\\\\MA2\\\\Hackathon\\\\move3d\\\\src\\\\move3d_project-lio-2025-04-23\\\\config.yaml'"
      ]
     },
     "execution_count": 5,
     "metadata": {},
     "output_type": "execute_result"
    }
   ],
   "source": [
    "deeplabcut.create_new_project(\n",
    "    'move3d_project',       # Project name\n",
    "    'lio',                  # Your name\n",
    "    [video_path],           # List of videos\n",
    "    copy_videos=True,       # Copies videos into the project folder\n",
    ")\n"
   ]
  },
  {
   "cell_type": "code",
   "execution_count": 11,
   "id": "b5fa5e7b",
   "metadata": {},
   "outputs": [
    {
     "ename": "AttributeError",
     "evalue": "module 'deeplabcut' has no attribute 'analyze_videos_contrastive'",
     "output_type": "error",
     "traceback": [
      "\u001b[31m---------------------------------------------------------------------------\u001b[39m",
      "\u001b[31mAttributeError\u001b[39m                            Traceback (most recent call last)",
      "\u001b[36mCell\u001b[39m\u001b[36m \u001b[39m\u001b[32mIn[11]\u001b[39m\u001b[32m, line 4\u001b[39m\n\u001b[32m      1\u001b[39m config_path = \u001b[33mr\u001b[39m\u001b[33m'\u001b[39m\u001b[33mC:\u001b[39m\u001b[33m\\\u001b[39m\u001b[33mUsers\u001b[39m\u001b[33m\\\u001b[39m\u001b[33mliogr\u001b[39m\u001b[33m\\\u001b[39m\u001b[33mDocuments\u001b[39m\u001b[33m\\\u001b[39m\u001b[33mEtudes\u001b[39m\u001b[33m\\\u001b[39m\u001b[33mMA2\u001b[39m\u001b[33m\\\u001b[39m\u001b[33mHackathon\u001b[39m\u001b[33m\\\u001b[39m\u001b[33mmove3d\u001b[39m\u001b[33m\\\u001b[39m\u001b[33msrc\u001b[39m\u001b[33m\\\u001b[39m\u001b[33mmove3d_project-lio-2025-04-23\u001b[39m\u001b[33m\\\u001b[39m\u001b[33mconfig.yaml\u001b[39m\u001b[33m'\u001b[39m\n\u001b[32m----> \u001b[39m\u001b[32m4\u001b[39m \u001b[43mdeeplabcut\u001b[49m\u001b[43m.\u001b[49m\u001b[43manalyze_videos_contrastive\u001b[49m(\n\u001b[32m      5\u001b[39m     video_path=\u001b[33mr\u001b[39m\u001b[33m'\u001b[39m\u001b[33mC:\u001b[39m\u001b[33m\\\u001b[39m\u001b[33mUsers\u001b[39m\u001b[33m\\\u001b[39m\u001b[33mliogr\u001b[39m\u001b[33m\\\u001b[39m\u001b[33mDocuments\u001b[39m\u001b[33m\\\u001b[39m\u001b[33mEtudes\u001b[39m\u001b[33m\\\u001b[39m\u001b[33mMA2\u001b[39m\u001b[33m\\\u001b[39m\u001b[33mHackathon\u001b[39m\u001b[33m\\\u001b[39m\u001b[33mmove3d\u001b[39m\u001b[33m\\\u001b[39m\u001b[33mmy_rehab_video.mp4\u001b[39m\u001b[33m'\u001b[39m,\n\u001b[32m      6\u001b[39m     model=\u001b[33m'\u001b[39m\u001b[33mSAPIENS-HUMAN-1.0\u001b[39m\u001b[33m'\u001b[39m,\n\u001b[32m      7\u001b[39m     save_as_csv=\u001b[38;5;28;01mTrue\u001b[39;00m,\n\u001b[32m      8\u001b[39m     visualize=\u001b[38;5;28;01mTrue\u001b[39;00m\n\u001b[32m      9\u001b[39m )\n",
      "\u001b[31mAttributeError\u001b[39m: module 'deeplabcut' has no attribute 'analyze_videos_contrastive'"
     ]
    }
   ],
   "source": [
    "config_path = r'C:\\Users\\liogr\\Documents\\Etudes\\MA2\\Hackathon\\move3d\\src\\move3d_project-lio-2025-04-23\\config.yaml'\n",
    "\n",
    "\n",
    "deeplabcut.analyze_videos_contrastive(\n",
    "    video_path=r'C:\\Users\\liogr\\Documents\\Etudes\\MA2\\Hackathon\\move3d\\my_rehab_video.mp4',\n",
    "    model='SAPIENS-HUMAN-1.0',\n",
    "    save_as_csv=True,\n",
    "    visualize=True\n",
    ")"
   ]
  },
  {
   "cell_type": "markdown",
   "id": "0f42bec8",
   "metadata": {},
   "source": []
  }
 ],
 "metadata": {
  "kernelspec": {
   "display_name": "move3d",
   "language": "python",
   "name": "python3"
  },
  "language_info": {
   "codemirror_mode": {
    "name": "ipython",
    "version": 3
   },
   "file_extension": ".py",
   "mimetype": "text/x-python",
   "name": "python",
   "nbconvert_exporter": "python",
   "pygments_lexer": "ipython3",
   "version": "3.11.11"
  }
 },
 "nbformat": 4,
 "nbformat_minor": 5
}
