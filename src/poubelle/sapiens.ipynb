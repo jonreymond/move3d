{
 "cells": [
  {
   "cell_type": "markdown",
   "id": "edcd3476",
   "metadata": {},
   "source": [
    "# Sapiens"
   ]
  },
  {
   "cell_type": "code",
   "execution_count": 17,
   "id": "8fb8fc9c",
   "metadata": {},
   "outputs": [],
   "source": [
    "# TO DO FIRST\n",
    "\n",
    "# conda create -n sapiens_lite python=3.10 -y\n",
    "# conda activate sapiens_lite\n",
    "\n",
    "# # Install PyTorch 2.2+ with CUDA 12.1 (GPU support)\n",
    "# conda install pytorch torchvision torchaudio pytorch-cuda=12.1 -c pytorch -c nvidia\n",
    "\n",
    "# # Install the other dependencies\n",
    "# pip install opencv-python tqdm json-tricks\n"
   ]
  },
  {
   "cell_type": "markdown",
   "id": "3c957715",
   "metadata": {},
   "source": []
  },
  {
   "cell_type": "code",
   "execution_count": null,
   "id": "0b5e0ed0",
   "metadata": {},
   "outputs": [
    {
     "ename": "ModuleNotFoundError",
     "evalue": "No module named 'runner'",
     "output_type": "error",
     "traceback": [
      "\u001b[1;31m---------------------------------------------------------------------------\u001b[0m",
      "\u001b[1;31mModuleNotFoundError\u001b[0m                       Traceback (most recent call last)",
      "Cell \u001b[1;32mIn [18], line 9\u001b[0m\n\u001b[0;32m      7\u001b[0m \u001b[38;5;66;03m# Add Sapiens modules to your path\u001b[39;00m\n\u001b[0;32m      8\u001b[0m sys\u001b[38;5;241m.\u001b[39mpath\u001b[38;5;241m.\u001b[39mappend(\u001b[38;5;124m\"\u001b[39m\u001b[38;5;124mC:/Users/liogr/Documents/Etudes/MA2/Hackathon/sapiens/engine\u001b[39m\u001b[38;5;124m\"\u001b[39m)\n\u001b[1;32m----> 9\u001b[0m \u001b[38;5;28;01mfrom\u001b[39;00m \u001b[38;5;21;01mrunner\u001b[39;00m \u001b[38;5;28;01mimport\u001b[39;00m build_model_and_infer  \u001b[38;5;66;03m# direct call used in demo\u001b[39;00m\n\u001b[0;32m     11\u001b[0m \u001b[38;5;66;03m# Set environment variables\u001b[39;00m\n\u001b[0;32m     12\u001b[0m os\u001b[38;5;241m.\u001b[39menviron[\u001b[38;5;124m\"\u001b[39m\u001b[38;5;124mSAPIENS_ROOT\u001b[39m\u001b[38;5;124m\"\u001b[39m] \u001b[38;5;241m=\u001b[39m \u001b[38;5;124m\"\u001b[39m\u001b[38;5;124mC:/Users/liogr/Documents/Etudes/MA2/Hackathon/sapiens\u001b[39m\u001b[38;5;124m\"\u001b[39m\n",
      "\u001b[1;31mModuleNotFoundError\u001b[0m: No module named 'runner'"
     ]
    }
   ],
   "source": [
    "import os\n",
    "import cv2\n",
    "import sys\n",
    "sys.path.append(\"C:/Users/liogr/Documents/Etudes/MA2/Hackathon/sapiens/engine\")\n",
    "\n",
    "import numpy as np\n",
    "from tqdm import tqdm\n",
    "\n",
    "# Add Sapiens modules to your path\n",
    "sys.path.append(\"C:/Users/liogr/Documents/Etudes/MA2/Hackathon/sapiens/engine\")\n",
    "from runner import build_model_and_infer  # direct call used in demo\n",
    "\n",
    "# Set environment variables\n",
    "os.environ[\"SAPIENS_ROOT\"] = \"C:/Users/liogr/Documents/Etudes/MA2/Hackathon/sapiens\"\n",
    "os.environ[\"SAPIENS_CHECKPOINT_ROOT\"] = \"C:/Users/liogr/Documents/Etudes/MA2/Hackathon/sapiens_host\"\n",
    "\n",
    "# Paths to config + checkpoint\n",
    "CONFIG_PATH = os.path.join(os.environ[\"SAPIENS_ROOT\"], \"configs/pose/pose_keypoints17.yaml\")\n",
    "CHECKPOINT_PATH = os.path.join(os.environ[\"SAPIENS_CHECKPOINT_ROOT\"], \"pose/checkpoints/sapiens_0.3b/sapiens_0.3b_coco_best_coco_AP_796_bf16.pt2\")\n"
   ]
  },
  {
   "cell_type": "code",
   "execution_count": null,
   "id": "aaa7d9fb",
   "metadata": {},
   "outputs": [],
   "source": [
    "from engine.runner import build_model_and_infer\n",
    "from engine.utils.image_utils import visualize_keypoints\n",
    "\n",
    "video_path = r'C:\\Users\\liogr\\Documents\\Etudes\\MA2\\Hackathon\\move3d\\3dmotion\\20250326\\camera\\C0110.MP4'\n",
    "output_video_path = \"C:/Users/liogr/Documents/Etudes/MA2/Hackathon/videos/pose_estimation_output.mp4\"\n",
    "\n",
    "# OpenCV setup\n",
    "cap = cv2.VideoCapture(video_path)\n",
    "fps = cap.get(cv2.CAP_PROP_FPS)\n",
    "width  = int(cap.get(cv2.CAP_PROP_FRAME_WIDTH))\n",
    "height = int(cap.get(cv2.CAP_PROP_FRAME_HEIGHT))\n",
    "\n",
    "out = cv2.VideoWriter(output_video_path, cv2.VideoWriter_fourcc(*\"mp4v\"), fps, (width, height))\n",
    "\n",
    "# Inference setup\n",
    "args = {\n",
    "    \"task\": \"pose\",\n",
    "    \"checkpoint\": CHECKPOINT_PATH,\n",
    "    \"config\": CONFIG_PATH,\n",
    "    \"det_config\": None,\n",
    "    \"det_checkpoint\": None,\n",
    "    \"input_size\": [height, width],\n",
    "    \"device\": \"cuda\" if torch.cuda.is_available() else \"cpu\",\n",
    "}\n",
    "\n",
    "print(f\"Running on: {args['device']}\")\n",
    "\n",
    "frame_idx = 0\n",
    "while True:\n",
    "    ret, frame = cap.read()\n",
    "    if not ret:\n",
    "        break\n",
    "\n",
    "    # Run pose estimation\n",
    "    outputs = build_model_and_infer(args, frame)\n",
    "\n",
    "    # Draw keypoints\n",
    "    vis_frame = visualize_keypoints(frame.copy(), outputs[\"keypoints\"], draw_bbox=False)\n",
    "    \n",
    "    # Write to output video\n",
    "    out.write(vis_frame)\n",
    "    frame_idx += 1\n",
    "\n",
    "cap.release()\n",
    "out.release()\n",
    "print(f\"Pose-estimated video saved to: {output_video_path}\")\n"
   ]
  },
  {
   "cell_type": "code",
   "execution_count": null,
   "id": "c4e03995",
   "metadata": {},
   "outputs": [
    {
     "name": "stdout",
     "output_type": "stream",
     "text": [
      "Extracted 0 frames.\n"
     ]
    }
   ],
   "source": []
  },
  {
   "cell_type": "code",
   "execution_count": null,
   "id": "dfa56928",
   "metadata": {},
   "outputs": [
    {
     "ename": "ModuleNotFoundError",
     "evalue": "No module named 'engine'",
     "output_type": "error",
     "traceback": [
      "\u001b[1;31m---------------------------------------------------------------------------\u001b[0m",
      "\u001b[1;31mModuleNotFoundError\u001b[0m                       Traceback (most recent call last)",
      "Cell \u001b[1;32mIn [10], line 1\u001b[0m\n\u001b[1;32m----> 1\u001b[0m \u001b[38;5;28;01mfrom\u001b[39;00m \u001b[38;5;21;01mengine\u001b[39;00m\u001b[38;5;21;01m.\u001b[39;00m\u001b[38;5;21;01mrunner\u001b[39;00m \u001b[38;5;28;01mimport\u001b[39;00m main\n\u001b[0;32m      2\u001b[0m \u001b[38;5;28;01mimport\u001b[39;00m \u001b[38;5;21;01msys\u001b[39;00m\n\u001b[0;32m      4\u001b[0m args \u001b[38;5;241m=\u001b[39m [\n\u001b[0;32m      5\u001b[0m     \u001b[38;5;124m\"\u001b[39m\u001b[38;5;124m--task\u001b[39m\u001b[38;5;124m\"\u001b[39m, \u001b[38;5;124m\"\u001b[39m\u001b[38;5;124mpose\u001b[39m\u001b[38;5;124m\"\u001b[39m,\n\u001b[0;32m      6\u001b[0m     \u001b[38;5;124m\"\u001b[39m\u001b[38;5;124m--input-path\u001b[39m\u001b[38;5;124m\"\u001b[39m, \u001b[38;5;124m\"\u001b[39m\u001b[38;5;124mC:/Users/liogr/Documents/Etudes/MA2/Hackathon/my_input_images\u001b[39m\u001b[38;5;124m\"\u001b[39m,\n\u001b[1;32m   (...)\u001b[0m\n\u001b[0;32m     11\u001b[0m     \u001b[38;5;124m\"\u001b[39m\u001b[38;5;124m--save-json\u001b[39m\u001b[38;5;124m\"\u001b[39m\n\u001b[0;32m     12\u001b[0m ]\n",
      "\u001b[1;31mModuleNotFoundError\u001b[0m: No module named 'engine'"
     ]
    }
   ],
   "source": []
  }
 ],
 "metadata": {
  "kernelspec": {
   "display_name": "sapiens_lite",
   "language": "python",
   "name": "python3"
  },
  "language_info": {
   "codemirror_mode": {
    "name": "ipython",
    "version": 3
   },
   "file_extension": ".py",
   "mimetype": "text/x-python",
   "name": "python",
   "nbconvert_exporter": "python",
   "pygments_lexer": "ipython3",
   "version": "3.10.16"
  }
 },
 "nbformat": 4,
 "nbformat_minor": 5
}
