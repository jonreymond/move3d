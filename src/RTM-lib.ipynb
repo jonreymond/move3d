{
 "cells": [
  {
   "cell_type": "markdown",
   "metadata": {},
   "source": [
    "# Generate 2D Keypoints"
   ]
  },
  {
   "cell_type": "code",
   "execution_count": 1,
   "metadata": {},
   "outputs": [
    {
     "name": "stdout",
     "output_type": "stream",
     "text": [
      "Requirement already satisfied: rtmlib in c:\\users\\liogr\\anaconda3\\envs\\move3d\\lib\\site-packages (0.0.13)\n",
      "Note: you may need to restart the kernel to use updated packages.\n"
     ]
    }
   ],
   "source": [
    "pip install rtmlib -i https://pypi.org/simple"
   ]
  },
  {
   "cell_type": "code",
   "execution_count": 2,
   "metadata": {},
   "outputs": [
    {
     "name": "stdout",
     "output_type": "stream",
     "text": [
      "Requirement already satisfied: onnxruntime in c:\\users\\liogr\\anaconda3\\envs\\move3d\\lib\\site-packages (1.21.1)\n",
      "Requirement already satisfied: coloredlogs in c:\\users\\liogr\\anaconda3\\envs\\move3d\\lib\\site-packages (from onnxruntime) (15.0.1)\n",
      "Requirement already satisfied: flatbuffers in c:\\users\\liogr\\anaconda3\\envs\\move3d\\lib\\site-packages (from onnxruntime) (25.2.10)\n",
      "Requirement already satisfied: numpy>=1.21.6 in c:\\users\\liogr\\anaconda3\\envs\\move3d\\lib\\site-packages (from onnxruntime) (1.26.4)\n",
      "Requirement already satisfied: packaging in c:\\users\\liogr\\anaconda3\\envs\\move3d\\lib\\site-packages (from onnxruntime) (25.0)\n",
      "Requirement already satisfied: protobuf in c:\\users\\liogr\\anaconda3\\envs\\move3d\\lib\\site-packages (from onnxruntime) (5.29.4)\n",
      "Requirement already satisfied: sympy in c:\\users\\liogr\\anaconda3\\envs\\move3d\\lib\\site-packages (from onnxruntime) (1.13.1)\n",
      "Requirement already satisfied: humanfriendly>=9.1 in c:\\users\\liogr\\anaconda3\\envs\\move3d\\lib\\site-packages (from coloredlogs->onnxruntime) (10.0)\n",
      "Requirement already satisfied: mpmath<1.4,>=1.1.0 in c:\\users\\liogr\\anaconda3\\envs\\move3d\\lib\\site-packages (from sympy->onnxruntime) (1.3.0)\n",
      "Requirement already satisfied: pyreadline3 in c:\\users\\liogr\\anaconda3\\envs\\move3d\\lib\\site-packages (from humanfriendly>=9.1->coloredlogs->onnxruntime) (3.5.4)\n",
      "Note: you may need to restart the kernel to use updated packages.\n"
     ]
    }
   ],
   "source": [
    "pip install onnxruntime"
   ]
  },
  {
   "cell_type": "code",
   "execution_count": 3,
   "metadata": {},
   "outputs": [],
   "source": [
    "import cv2\n",
    "import os\n",
    "import json\n",
    "from rtmlib import Body, draw_skeleton"
   ]
  },
  {
   "cell_type": "code",
   "execution_count": 4,
   "metadata": {},
   "outputs": [
    {
     "name": "stdout",
     "output_type": "stream",
     "text": [
      "load C:\\Users\\liogr\\.cache\\rtmlib\\hub\\checkpoints\\yolox_m_8xb8-300e_humanart-c2c7a14a.onnx with onnxruntime backend\n"
     ]
    },
    {
     "name": "stderr",
     "output_type": "stream",
     "text": [
      "Downloading: \"https://download.openmmlab.com/mmpose/v1/projects/rtmposev1/onnx_sdk/rtmpose-m_simcc-body7_pt-body7_420e-256x192-e48f03d0_20230504.zip\" to C:\\Users\\liogr\\.cache\\rtmlib\\hub\\checkpoints\\rtmpose-m_simcc-body7_pt-body7_420e-256x192-e48f03d0_20230504.zip\n",
      "100%|██████████| 48.4M/48.4M [00:26<00:00, 1.93MB/s]\n"
     ]
    },
    {
     "name": "stdout",
     "output_type": "stream",
     "text": [
      "load C:\\Users\\liogr\\.cache\\rtmlib\\hub\\checkpoints\\rtmpose-m_simcc-body7_pt-body7_420e-256x192-e48f03d0_20230504.onnx with onnxruntime backend\n"
     ]
    }
   ],
   "source": [
    "# Define paths\n",
    "video_folder = os.path.join('..', '3dmotion', '20250326', 'camera')\n",
    "output_folder = os.path.join('.', 'data')  # Relative to where script is run\n",
    "\n",
    "# Create output folder if it doesn't exist\n",
    "os.makedirs(output_folder, exist_ok=True)\n",
    "\n",
    "# Initialize pose estimation model\n",
    "body = Body(\n",
    "    mode='balanced',\n",
    "    backend='onnxruntime',\n",
    "    device='cpu'\n",
    ")"
   ]
  },
  {
   "cell_type": "code",
   "execution_count": null,
   "metadata": {},
   "outputs": [
    {
     "name": "stdout",
     "output_type": "stream",
     "text": [
      "load C:\\Users\\liogr\\.cache\\rtmlib\\hub\\checkpoints\\yolox_m_8xb8-300e_humanart-c2c7a14a.onnx with onnxruntime backend\n",
      "load C:\\Users\\liogr\\.cache\\rtmlib\\hub\\checkpoints\\rtmpose-m_simcc-body7_pt-body7_420e-256x192-e48f03d0_20230504.onnx with onnxruntime backend\n"
     ]
    }
   ],
   "source": [
    "import cv2\n",
    "import os\n",
    "import json\n",
    "from rtmlib import Body, draw_skeleton\n",
    "\n",
    "# Define paths\n",
    "video_folder = os.path.join('..', '3dmotion', '20250326', 'camera')\n",
    "output_folder = os.path.join('.', 'data')  # Relative to where script is run\n",
    "\n",
    "# Create output folder if it doesn't exist\n",
    "os.makedirs(output_folder, exist_ok=True)\n",
    "\n",
    "# Initialize pose estimation model\n",
    "body = Body(\n",
    "    mode='balanced',\n",
    "    backend='onnxruntime',\n",
    "    device='cpu'\n",
    ")\n",
    "\n",
    "# Loop through videos\n",
    "for filename in os.listdir(video_folder):\n",
    "    if filename.endswith('.MP4'):\n",
    "        video_path = os.path.join(video_folder, filename)\n",
    "        output_video_path = os.path.join(output_folder, f'keypoints_{filename}')\n",
    "        output_json_path = os.path.join(output_folder, f'keypoints_{os.path.splitext(filename)[0]}.json')\n",
    "\n",
    "        print(f\"Processing: {filename}\")\n",
    "\n",
    "        cap = cv2.VideoCapture(video_path)\n",
    "\n",
    "        # Setup video writer\n",
    "        fourcc = cv2.VideoWriter_fourcc(*'mp4v')\n",
    "        fps = cap.get(cv2.CAP_PROP_FPS)\n",
    "        frame_size = (int(cap.get(cv2.CAP_PROP_FRAME_WIDTH)),\n",
    "                      int(cap.get(cv2.CAP_PROP_FRAME_HEIGHT)))\n",
    "        out = cv2.VideoWriter(output_video_path, fourcc, fps, frame_size)\n",
    "\n",
    "        all_keypoints = []\n",
    "        all_scores = []\n",
    "\n",
    "        while cap.isOpened():\n",
    "            ret, frame = cap.read()\n",
    "            if not ret:\n",
    "                break\n",
    "\n",
    "            keypoints, scores = body(frame)\n",
    "            all_keypoints.append(keypoints.tolist())\n",
    "            all_scores.append(scores.tolist())\n",
    "\n",
    "            frame = draw_skeleton(frame, keypoints, scores, kpt_thr=0.5)\n",
    "            out.write(frame)\n",
    "\n",
    "        cap.release()\n",
    "        out.release()\n",
    "        print(f\"Saved video: {output_video_path}\")\n",
    "\n",
    "        # Save keypoints to JSON\n",
    "        json_data = {\n",
    "            \"video\": filename,\n",
    "            \"keypoints\": all_keypoints,\n",
    "            \"scores\": all_scores\n",
    "        }\n",
    "\n",
    "        with open(output_json_path, 'w') as f:\n",
    "            json.dump(json_data, f)\n",
    "\n",
    "        print(f\"Saved keypoints JSON: {output_json_path}\")\n",
    "\n",
    "cv2.destroyAllWindows()\n"
   ]
  },
  {
   "cell_type": "code",
   "execution_count": null,
   "metadata": {},
   "outputs": [],
   "source": []
  }
 ],
 "metadata": {
  "kernelspec": {
   "display_name": "move3d",
   "language": "python",
   "name": "python3"
  },
  "language_info": {
   "codemirror_mode": {
    "name": "ipython",
    "version": 3
   },
   "file_extension": ".py",
   "mimetype": "text/x-python",
   "name": "python",
   "nbconvert_exporter": "python",
   "pygments_lexer": "ipython3",
   "version": "3.11.11"
  }
 },
 "nbformat": 4,
 "nbformat_minor": 2
}
