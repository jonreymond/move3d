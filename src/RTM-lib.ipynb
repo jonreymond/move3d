{
 "cells": [
  {
   "cell_type": "markdown",
   "metadata": {},
   "source": [
    "# Generate 2D Keypoints"
   ]
  },
  {
   "cell_type": "code",
   "execution_count": 1,
   "metadata": {},
   "outputs": [
    {
     "name": "stdout",
     "output_type": "stream",
     "text": [
      "Collecting rtmlib\n",
      "  Downloading rtmlib-0.0.13-py3-none-any.whl.metadata (17 kB)\n",
      "Downloading rtmlib-0.0.13-py3-none-any.whl (48 kB)\n",
      "Installing collected packages: rtmlib\n",
      "Successfully installed rtmlib-0.0.13\n",
      "Note: you may need to restart the kernel to use updated packages.\n"
     ]
    }
   ],
   "source": [
    "pip install rtmlib -i https://pypi.org/simple"
   ]
  },
  {
   "cell_type": "code",
   "execution_count": 2,
   "metadata": {},
   "outputs": [
    {
     "name": "stdout",
     "output_type": "stream",
     "text": [
      "Collecting onnxruntime\n",
      "  Downloading onnxruntime-1.21.1-cp311-cp311-win_amd64.whl.metadata (4.9 kB)\n",
      "Collecting coloredlogs (from onnxruntime)\n",
      "  Downloading coloredlogs-15.0.1-py2.py3-none-any.whl.metadata (12 kB)\n",
      "Requirement already satisfied: flatbuffers in c:\\users\\liogr\\anaconda3\\envs\\move3d\\lib\\site-packages (from onnxruntime) (25.2.10)\n",
      "Requirement already satisfied: numpy>=1.21.6 in c:\\users\\liogr\\anaconda3\\envs\\move3d\\lib\\site-packages (from onnxruntime) (1.26.4)\n",
      "Requirement already satisfied: packaging in c:\\users\\liogr\\anaconda3\\envs\\move3d\\lib\\site-packages (from onnxruntime) (25.0)\n",
      "Requirement already satisfied: protobuf in c:\\users\\liogr\\anaconda3\\envs\\move3d\\lib\\site-packages (from onnxruntime) (5.29.4)\n",
      "Requirement already satisfied: sympy in c:\\users\\liogr\\anaconda3\\envs\\move3d\\lib\\site-packages (from onnxruntime) (1.13.1)\n",
      "Collecting humanfriendly>=9.1 (from coloredlogs->onnxruntime)\n",
      "  Downloading humanfriendly-10.0-py2.py3-none-any.whl.metadata (9.2 kB)\n",
      "Requirement already satisfied: mpmath<1.4,>=1.1.0 in c:\\users\\liogr\\anaconda3\\envs\\move3d\\lib\\site-packages (from sympy->onnxruntime) (1.3.0)\n",
      "Collecting pyreadline3 (from humanfriendly>=9.1->coloredlogs->onnxruntime)\n",
      "  Downloading pyreadline3-3.5.4-py3-none-any.whl.metadata (4.7 kB)\n",
      "Downloading onnxruntime-1.21.1-cp311-cp311-win_amd64.whl (12.3 MB)\n",
      "   ---------------------------------------- 0.0/12.3 MB ? eta -:--:--\n",
      "    --------------------------------------- 0.3/12.3 MB ? eta -:--:--\n",
      "   - -------------------------------------- 0.5/12.3 MB 2.8 MB/s eta 0:00:05\n",
      "   --- ------------------------------------ 1.0/12.3 MB 2.1 MB/s eta 0:00:06\n",
      "   ---- ----------------------------------- 1.3/12.3 MB 1.7 MB/s eta 0:00:07\n",
      "   ----- ---------------------------------- 1.6/12.3 MB 1.6 MB/s eta 0:00:07\n",
      "   ----- ---------------------------------- 1.6/12.3 MB 1.6 MB/s eta 0:00:07\n",
      "   ------ --------------------------------- 2.1/12.3 MB 1.5 MB/s eta 0:00:08\n",
      "   ------ --------------------------------- 2.1/12.3 MB 1.5 MB/s eta 0:00:08\n",
      "   ------- -------------------------------- 2.4/12.3 MB 1.3 MB/s eta 0:00:08\n",
      "   --------- ------------------------------ 2.9/12.3 MB 1.3 MB/s eta 0:00:08\n",
      "   ---------- ----------------------------- 3.1/12.3 MB 1.4 MB/s eta 0:00:07\n",
      "   ----------- ---------------------------- 3.4/12.3 MB 1.4 MB/s eta 0:00:07\n",
      "   ----------- ---------------------------- 3.7/12.3 MB 1.4 MB/s eta 0:00:07\n",
      "   ------------ --------------------------- 3.9/12.3 MB 1.4 MB/s eta 0:00:07\n",
      "   ------------- -------------------------- 4.2/12.3 MB 1.3 MB/s eta 0:00:07\n",
      "   --------------- ------------------------ 4.7/12.3 MB 1.4 MB/s eta 0:00:06\n",
      "   ----------------- ---------------------- 5.2/12.3 MB 1.4 MB/s eta 0:00:05\n",
      "   ------------------ --------------------- 5.8/12.3 MB 1.5 MB/s eta 0:00:05\n",
      "   --------------------- ------------------ 6.6/12.3 MB 1.6 MB/s eta 0:00:04\n",
      "   ----------------------- ---------------- 7.1/12.3 MB 1.7 MB/s eta 0:00:04\n",
      "   ----------------------- ---------------- 7.3/12.3 MB 1.7 MB/s eta 0:00:03\n",
      "   ------------------------- -------------- 7.9/12.3 MB 1.7 MB/s eta 0:00:03\n",
      "   --------------------------- ------------ 8.4/12.3 MB 1.7 MB/s eta 0:00:03\n",
      "   ---------------------------- ----------- 8.9/12.3 MB 1.8 MB/s eta 0:00:02\n",
      "   ------------------------------ --------- 9.4/12.3 MB 1.8 MB/s eta 0:00:02\n",
      "   ------------------------------- -------- 9.7/12.3 MB 1.8 MB/s eta 0:00:02\n",
      "   -------------------------------- ------- 10.0/12.3 MB 1.8 MB/s eta 0:00:02\n",
      "   --------------------------------- ------ 10.2/12.3 MB 1.8 MB/s eta 0:00:02\n",
      "   ---------------------------------- ----- 10.7/12.3 MB 1.8 MB/s eta 0:00:01\n",
      "   ----------------------------------- ---- 11.0/12.3 MB 1.7 MB/s eta 0:00:01\n",
      "   ------------------------------------ --- 11.3/12.3 MB 1.7 MB/s eta 0:00:01\n",
      "   -------------------------------------- - 11.8/12.3 MB 1.7 MB/s eta 0:00:01\n",
      "   ---------------------------------------  12.1/12.3 MB 1.7 MB/s eta 0:00:01\n",
      "   ---------------------------------------  12.1/12.3 MB 1.7 MB/s eta 0:00:01\n",
      "   ---------------------------------------- 12.3/12.3 MB 1.7 MB/s eta 0:00:00\n",
      "Downloading coloredlogs-15.0.1-py2.py3-none-any.whl (46 kB)\n",
      "Downloading humanfriendly-10.0-py2.py3-none-any.whl (86 kB)\n",
      "Downloading pyreadline3-3.5.4-py3-none-any.whl (83 kB)\n",
      "Installing collected packages: pyreadline3, humanfriendly, coloredlogs, onnxruntime\n",
      "Successfully installed coloredlogs-15.0.1 humanfriendly-10.0 onnxruntime-1.21.1 pyreadline3-3.5.4\n",
      "Note: you may need to restart the kernel to use updated packages.\n"
     ]
    }
   ],
   "source": [
    "pip install onnxruntime"
   ]
  },
  {
   "cell_type": "code",
   "execution_count": 3,
   "metadata": {},
   "outputs": [],
   "source": [
    "import cv2\n",
    "from rtmlib import Body, draw_skeleton\n",
    "import onnxruntime\n",
    "import os"
   ]
  },
  {
   "cell_type": "code",
   "execution_count": 4,
   "metadata": {},
   "outputs": [],
   "source": [
    "trial_video_path = os.path.join('..', '3dmotion', '20250326','camera', 'C0112.mp4')"
   ]
  },
  {
   "cell_type": "code",
   "execution_count": 5,
   "metadata": {},
   "outputs": [
    {
     "name": "stderr",
     "output_type": "stream",
     "text": [
      "Downloading: \"https://download.openmmlab.com/mmpose/v1/projects/rtmposev1/onnx_sdk/yolox_m_8xb8-300e_humanart-c2c7a14a.zip\" to C:\\Users\\liogr\\.cache\\rtmlib\\hub\\checkpoints\\yolox_m_8xb8-300e_humanart-c2c7a14a.zip\n",
      "100%|██████████| 89.9M/89.9M [00:52<00:00, 1.78MB/s]\n",
      "Downloading: \"https://download.openmmlab.com/mmpose/v1/projects/rtmposev1/onnx_sdk/rtmpose-m_simcc-body7_pt-body7_420e-256x192-e48f03d0_20230504.zip\" to C:\\Users\\liogr\\.cache\\rtmlib\\hub\\checkpoints\\rtmpose-m_simcc-body7_pt-body7_420e-256x192-e48f03d0_20230504.zip\n"
     ]
    },
    {
     "name": "stdout",
     "output_type": "stream",
     "text": [
      "load C:\\Users\\liogr\\.cache\\rtmlib\\hub\\checkpoints\\yolox_m_8xb8-300e_humanart-c2c7a14a.onnx with onnxruntime backend\n"
     ]
    },
    {
     "name": "stderr",
     "output_type": "stream",
     "text": [
      " 76%|███████▌  | 36.7M/48.4M [00:20<00:06, 1.88MB/s]\n"
     ]
    },
    {
     "ename": "KeyboardInterrupt",
     "evalue": "",
     "output_type": "error",
     "traceback": [
      "\u001b[31m---------------------------------------------------------------------------\u001b[39m",
      "\u001b[31mKeyboardInterrupt\u001b[39m                         Traceback (most recent call last)",
      "\u001b[36mCell\u001b[39m\u001b[36m \u001b[39m\u001b[32mIn[5]\u001b[39m\u001b[32m, line 2\u001b[39m\n\u001b[32m      1\u001b[39m \u001b[38;5;66;03m# Initialize the pose estimation model\u001b[39;00m\n\u001b[32m----> \u001b[39m\u001b[32m2\u001b[39m body = \u001b[43mBody\u001b[49m\u001b[43m(\u001b[49m\n\u001b[32m      3\u001b[39m \u001b[43m    \u001b[49m\u001b[43mmode\u001b[49m\u001b[43m=\u001b[49m\u001b[33;43m'\u001b[39;49m\u001b[33;43mbalanced\u001b[39;49m\u001b[33;43m'\u001b[39;49m\u001b[43m,\u001b[49m\u001b[43m  \u001b[49m\u001b[38;5;66;43;03m# Options: 'performance', 'lightweight', 'balanced'\u001b[39;49;00m\n\u001b[32m      4\u001b[39m \u001b[43m    \u001b[49m\u001b[43mbackend\u001b[49m\u001b[43m=\u001b[49m\u001b[33;43m'\u001b[39;49m\u001b[33;43monnxruntime\u001b[39;49m\u001b[33;43m'\u001b[39;49m\u001b[43m,\u001b[49m\n\u001b[32m      5\u001b[39m \u001b[43m    \u001b[49m\u001b[43mdevice\u001b[49m\u001b[43m=\u001b[49m\u001b[33;43m'\u001b[39;49m\u001b[33;43mcpu\u001b[39;49m\u001b[33;43m'\u001b[39;49m\n\u001b[32m      6\u001b[39m \u001b[43m)\u001b[49m\n\u001b[32m      8\u001b[39m \u001b[38;5;66;03m# Open the video file\u001b[39;00m\n\u001b[32m      9\u001b[39m video_path = trial_video_path\n",
      "\u001b[36mFile \u001b[39m\u001b[32mc:\\Users\\liogr\\anaconda3\\envs\\move3d\\Lib\\site-packages\\rtmlib\\tools\\solution\\body.py:131\u001b[39m, in \u001b[36mBody.__init__\u001b[39m\u001b[34m(self, det, det_input_size, pose, pose_input_size, mode, to_openpose, backend, device)\u001b[39m\n\u001b[32m    125\u001b[39m     det_input_size = \u001b[38;5;28mself\u001b[39m.MODE[mode][\u001b[33m'\u001b[39m\u001b[33mdet_input_size\u001b[39m\u001b[33m'\u001b[39m]\n\u001b[32m    127\u001b[39m \u001b[38;5;28mself\u001b[39m.det_model = YOLOX(det,\n\u001b[32m    128\u001b[39m                        model_input_size=det_input_size,\n\u001b[32m    129\u001b[39m                        backend=backend,\n\u001b[32m    130\u001b[39m                        device=device)\n\u001b[32m--> \u001b[39m\u001b[32m131\u001b[39m \u001b[38;5;28mself\u001b[39m.pose_model = \u001b[43mRTMPose\u001b[49m\u001b[43m(\u001b[49m\u001b[43mpose\u001b[49m\u001b[43m,\u001b[49m\n\u001b[32m    132\u001b[39m \u001b[43m                          \u001b[49m\u001b[43mmodel_input_size\u001b[49m\u001b[43m=\u001b[49m\u001b[43mpose_input_size\u001b[49m\u001b[43m,\u001b[49m\n\u001b[32m    133\u001b[39m \u001b[43m                          \u001b[49m\u001b[43mto_openpose\u001b[49m\u001b[43m=\u001b[49m\u001b[43mto_openpose\u001b[49m\u001b[43m,\u001b[49m\n\u001b[32m    134\u001b[39m \u001b[43m                          \u001b[49m\u001b[43mbackend\u001b[49m\u001b[43m=\u001b[49m\u001b[43mbackend\u001b[49m\u001b[43m,\u001b[49m\n\u001b[32m    135\u001b[39m \u001b[43m                          \u001b[49m\u001b[43mdevice\u001b[49m\u001b[43m=\u001b[49m\u001b[43mdevice\u001b[49m\u001b[43m)\u001b[49m\n",
      "\u001b[36mFile \u001b[39m\u001b[32mc:\\Users\\liogr\\anaconda3\\envs\\move3d\\Lib\\site-packages\\rtmlib\\tools\\pose_estimation\\rtmpose.py:20\u001b[39m, in \u001b[36mRTMPose.__init__\u001b[39m\u001b[34m(self, onnx_model, model_input_size, mean, std, to_openpose, backend, device)\u001b[39m\n\u001b[32m     12\u001b[39m \u001b[38;5;28;01mdef\u001b[39;00m\u001b[38;5;250m \u001b[39m\u001b[34m__init__\u001b[39m(\u001b[38;5;28mself\u001b[39m,\n\u001b[32m     13\u001b[39m              onnx_model: \u001b[38;5;28mstr\u001b[39m,\n\u001b[32m     14\u001b[39m              model_input_size: \u001b[38;5;28mtuple\u001b[39m = (\u001b[32m288\u001b[39m, \u001b[32m384\u001b[39m),\n\u001b[32m   (...)\u001b[39m\u001b[32m     18\u001b[39m              backend: \u001b[38;5;28mstr\u001b[39m = \u001b[33m'\u001b[39m\u001b[33monnxruntime\u001b[39m\u001b[33m'\u001b[39m,\n\u001b[32m     19\u001b[39m              device: \u001b[38;5;28mstr\u001b[39m = \u001b[33m'\u001b[39m\u001b[33mcpu\u001b[39m\u001b[33m'\u001b[39m):\n\u001b[32m---> \u001b[39m\u001b[32m20\u001b[39m     \u001b[38;5;28;43msuper\u001b[39;49m\u001b[43m(\u001b[49m\u001b[43m)\u001b[49m\u001b[43m.\u001b[49m\u001b[34;43m__init__\u001b[39;49m\u001b[43m(\u001b[49m\u001b[43monnx_model\u001b[49m\u001b[43m,\u001b[49m\u001b[43m \u001b[49m\u001b[43mmodel_input_size\u001b[49m\u001b[43m,\u001b[49m\u001b[43m \u001b[49m\u001b[43mmean\u001b[49m\u001b[43m,\u001b[49m\u001b[43m \u001b[49m\u001b[43mstd\u001b[49m\u001b[43m,\u001b[49m\u001b[43m \u001b[49m\u001b[43mbackend\u001b[49m\u001b[43m,\u001b[49m\n\u001b[32m     21\u001b[39m \u001b[43m                     \u001b[49m\u001b[43mdevice\u001b[49m\u001b[43m)\u001b[49m\n\u001b[32m     22\u001b[39m     \u001b[38;5;28mself\u001b[39m.to_openpose = to_openpose\n",
      "\u001b[36mFile \u001b[39m\u001b[32mc:\\Users\\liogr\\anaconda3\\envs\\move3d\\Lib\\site-packages\\rtmlib\\tools\\base.py:43\u001b[39m, in \u001b[36mBaseTool.__init__\u001b[39m\u001b[34m(self, onnx_model, model_input_size, mean, std, backend, device)\u001b[39m\n\u001b[32m     34\u001b[39m \u001b[38;5;28;01mdef\u001b[39;00m\u001b[38;5;250m \u001b[39m\u001b[34m__init__\u001b[39m(\u001b[38;5;28mself\u001b[39m,\n\u001b[32m     35\u001b[39m              onnx_model: \u001b[38;5;28mstr\u001b[39m = \u001b[38;5;28;01mNone\u001b[39;00m,\n\u001b[32m     36\u001b[39m              model_input_size: \u001b[38;5;28mtuple\u001b[39m = \u001b[38;5;28;01mNone\u001b[39;00m,\n\u001b[32m   (...)\u001b[39m\u001b[32m     39\u001b[39m              backend: \u001b[38;5;28mstr\u001b[39m = \u001b[33m'\u001b[39m\u001b[33mopencv\u001b[39m\u001b[33m'\u001b[39m,\n\u001b[32m     40\u001b[39m              device: \u001b[38;5;28mstr\u001b[39m = \u001b[33m'\u001b[39m\u001b[33mcpu\u001b[39m\u001b[33m'\u001b[39m):\n\u001b[32m     42\u001b[39m     \u001b[38;5;28;01mif\u001b[39;00m \u001b[38;5;129;01mnot\u001b[39;00m os.path.exists(onnx_model):\n\u001b[32m---> \u001b[39m\u001b[32m43\u001b[39m         onnx_model = \u001b[43mdownload_checkpoint\u001b[49m\u001b[43m(\u001b[49m\u001b[43monnx_model\u001b[49m\u001b[43m)\u001b[49m\n\u001b[32m     45\u001b[39m     \u001b[38;5;28;01mif\u001b[39;00m backend == \u001b[33m'\u001b[39m\u001b[33mopencv\u001b[39m\u001b[33m'\u001b[39m:\n\u001b[32m     46\u001b[39m         \u001b[38;5;28;01mtry\u001b[39;00m:\n",
      "\u001b[36mFile \u001b[39m\u001b[32mc:\\Users\\liogr\\anaconda3\\envs\\move3d\\Lib\\site-packages\\rtmlib\\tools\\file.py:144\u001b[39m, in \u001b[36mdownload_checkpoint\u001b[39m\u001b[34m(url, dst_dir, progress, check_hash, filename)\u001b[39m\n\u001b[32m    142\u001b[39m         r = HASH_REGEX.search(filename)  \u001b[38;5;66;03m# r is Optional[Match[str]]\u001b[39;00m\n\u001b[32m    143\u001b[39m         hash_prefix = r.group(\u001b[32m1\u001b[39m) \u001b[38;5;28;01mif\u001b[39;00m r \u001b[38;5;28;01melse\u001b[39;00m \u001b[38;5;28;01mNone\u001b[39;00m\n\u001b[32m--> \u001b[39m\u001b[32m144\u001b[39m     \u001b[43mdownload_url_to_file\u001b[49m\u001b[43m(\u001b[49m\u001b[43murl\u001b[49m\u001b[43m,\u001b[49m\u001b[43m \u001b[49m\u001b[43mcached_file\u001b[49m\u001b[43m,\u001b[49m\u001b[43m \u001b[49m\u001b[43mhash_prefix\u001b[49m\u001b[43m,\u001b[49m\u001b[43m \u001b[49m\u001b[43mprogress\u001b[49m\u001b[43m=\u001b[49m\u001b[43mprogress\u001b[49m\u001b[43m)\u001b[49m\n\u001b[32m    146\u001b[39m \u001b[38;5;28;01mif\u001b[39;00m \u001b[38;5;28mstr\u001b[39m(cached_file).split(\u001b[33m'\u001b[39m\u001b[33m.\u001b[39m\u001b[33m'\u001b[39m)[-\u001b[32m1\u001b[39m] == \u001b[33m'\u001b[39m\u001b[33mzip\u001b[39m\u001b[33m'\u001b[39m:\n\u001b[32m    147\u001b[39m     \u001b[38;5;66;03m# os.system(f'unzip -d {dst_dir}/tmp {cached_file}')\u001b[39;00m\n\u001b[32m    148\u001b[39m     tmp_dir = Path(Path(cached_file).parent, \u001b[33m\"\u001b[39m\u001b[33mtmp\u001b[39m\u001b[33m\"\u001b[39m)\n",
      "\u001b[36mFile \u001b[39m\u001b[32mc:\\Users\\liogr\\anaconda3\\envs\\move3d\\Lib\\site-packages\\rtmlib\\tools\\file.py:71\u001b[39m, in \u001b[36mdownload_url_to_file\u001b[39m\u001b[34m(url, dst, hash_prefix, progress)\u001b[39m\n\u001b[32m     65\u001b[39m \u001b[38;5;28;01mwith\u001b[39;00m tqdm(total=file_size,\n\u001b[32m     66\u001b[39m           disable=\u001b[38;5;129;01mnot\u001b[39;00m progress,\n\u001b[32m     67\u001b[39m           unit=\u001b[33m'\u001b[39m\u001b[33mB\u001b[39m\u001b[33m'\u001b[39m,\n\u001b[32m     68\u001b[39m           unit_scale=\u001b[38;5;28;01mTrue\u001b[39;00m,\n\u001b[32m     69\u001b[39m           unit_divisor=\u001b[32m1024\u001b[39m) \u001b[38;5;28;01mas\u001b[39;00m pbar:\n\u001b[32m     70\u001b[39m     \u001b[38;5;28;01mwhile\u001b[39;00m \u001b[38;5;28;01mTrue\u001b[39;00m:\n\u001b[32m---> \u001b[39m\u001b[32m71\u001b[39m         buffer = \u001b[43mu\u001b[49m\u001b[43m.\u001b[49m\u001b[43mread\u001b[49m\u001b[43m(\u001b[49m\u001b[32;43m8192\u001b[39;49m\u001b[43m)\u001b[49m\n\u001b[32m     72\u001b[39m         \u001b[38;5;28;01mif\u001b[39;00m \u001b[38;5;28mlen\u001b[39m(buffer) == \u001b[32m0\u001b[39m:\n\u001b[32m     73\u001b[39m             \u001b[38;5;28;01mbreak\u001b[39;00m\n",
      "\u001b[36mFile \u001b[39m\u001b[32mc:\\Users\\liogr\\anaconda3\\envs\\move3d\\Lib\\http\\client.py:473\u001b[39m, in \u001b[36mHTTPResponse.read\u001b[39m\u001b[34m(self, amt)\u001b[39m\n\u001b[32m    470\u001b[39m \u001b[38;5;28;01mif\u001b[39;00m \u001b[38;5;28mself\u001b[39m.length \u001b[38;5;129;01mis\u001b[39;00m \u001b[38;5;129;01mnot\u001b[39;00m \u001b[38;5;28;01mNone\u001b[39;00m \u001b[38;5;129;01mand\u001b[39;00m amt > \u001b[38;5;28mself\u001b[39m.length:\n\u001b[32m    471\u001b[39m     \u001b[38;5;66;03m# clip the read to the \"end of response\"\u001b[39;00m\n\u001b[32m    472\u001b[39m     amt = \u001b[38;5;28mself\u001b[39m.length\n\u001b[32m--> \u001b[39m\u001b[32m473\u001b[39m s = \u001b[38;5;28mself\u001b[39m.fp.read(amt)\n\u001b[32m    474\u001b[39m \u001b[38;5;28;01mif\u001b[39;00m \u001b[38;5;129;01mnot\u001b[39;00m s \u001b[38;5;129;01mand\u001b[39;00m amt:\n\u001b[32m    475\u001b[39m     \u001b[38;5;66;03m# Ideally, we would raise IncompleteRead if the content-length\u001b[39;00m\n\u001b[32m    476\u001b[39m     \u001b[38;5;66;03m# wasn't satisfied, but it might break compatibility.\u001b[39;00m\n\u001b[32m    477\u001b[39m     \u001b[38;5;28mself\u001b[39m._close_conn()\n",
      "\u001b[36mFile \u001b[39m\u001b[32mc:\\Users\\liogr\\anaconda3\\envs\\move3d\\Lib\\socket.py:718\u001b[39m, in \u001b[36mSocketIO.readinto\u001b[39m\u001b[34m(self, b)\u001b[39m\n\u001b[32m    716\u001b[39m \u001b[38;5;28;01mwhile\u001b[39;00m \u001b[38;5;28;01mTrue\u001b[39;00m:\n\u001b[32m    717\u001b[39m     \u001b[38;5;28;01mtry\u001b[39;00m:\n\u001b[32m--> \u001b[39m\u001b[32m718\u001b[39m         \u001b[38;5;28;01mreturn\u001b[39;00m \u001b[38;5;28;43mself\u001b[39;49m\u001b[43m.\u001b[49m\u001b[43m_sock\u001b[49m\u001b[43m.\u001b[49m\u001b[43mrecv_into\u001b[49m\u001b[43m(\u001b[49m\u001b[43mb\u001b[49m\u001b[43m)\u001b[49m\n\u001b[32m    719\u001b[39m     \u001b[38;5;28;01mexcept\u001b[39;00m timeout:\n\u001b[32m    720\u001b[39m         \u001b[38;5;28mself\u001b[39m._timeout_occurred = \u001b[38;5;28;01mTrue\u001b[39;00m\n",
      "\u001b[36mFile \u001b[39m\u001b[32mc:\\Users\\liogr\\anaconda3\\envs\\move3d\\Lib\\ssl.py:1314\u001b[39m, in \u001b[36mSSLSocket.recv_into\u001b[39m\u001b[34m(self, buffer, nbytes, flags)\u001b[39m\n\u001b[32m   1310\u001b[39m     \u001b[38;5;28;01mif\u001b[39;00m flags != \u001b[32m0\u001b[39m:\n\u001b[32m   1311\u001b[39m         \u001b[38;5;28;01mraise\u001b[39;00m \u001b[38;5;167;01mValueError\u001b[39;00m(\n\u001b[32m   1312\u001b[39m           \u001b[33m\"\u001b[39m\u001b[33mnon-zero flags not allowed in calls to recv_into() on \u001b[39m\u001b[38;5;132;01m%s\u001b[39;00m\u001b[33m\"\u001b[39m %\n\u001b[32m   1313\u001b[39m           \u001b[38;5;28mself\u001b[39m.\u001b[34m__class__\u001b[39m)\n\u001b[32m-> \u001b[39m\u001b[32m1314\u001b[39m     \u001b[38;5;28;01mreturn\u001b[39;00m \u001b[38;5;28;43mself\u001b[39;49m\u001b[43m.\u001b[49m\u001b[43mread\u001b[49m\u001b[43m(\u001b[49m\u001b[43mnbytes\u001b[49m\u001b[43m,\u001b[49m\u001b[43m \u001b[49m\u001b[43mbuffer\u001b[49m\u001b[43m)\u001b[49m\n\u001b[32m   1315\u001b[39m \u001b[38;5;28;01melse\u001b[39;00m:\n\u001b[32m   1316\u001b[39m     \u001b[38;5;28;01mreturn\u001b[39;00m \u001b[38;5;28msuper\u001b[39m().recv_into(buffer, nbytes, flags)\n",
      "\u001b[36mFile \u001b[39m\u001b[32mc:\\Users\\liogr\\anaconda3\\envs\\move3d\\Lib\\ssl.py:1166\u001b[39m, in \u001b[36mSSLSocket.read\u001b[39m\u001b[34m(self, len, buffer)\u001b[39m\n\u001b[32m   1164\u001b[39m \u001b[38;5;28;01mtry\u001b[39;00m:\n\u001b[32m   1165\u001b[39m     \u001b[38;5;28;01mif\u001b[39;00m buffer \u001b[38;5;129;01mis\u001b[39;00m \u001b[38;5;129;01mnot\u001b[39;00m \u001b[38;5;28;01mNone\u001b[39;00m:\n\u001b[32m-> \u001b[39m\u001b[32m1166\u001b[39m         \u001b[38;5;28;01mreturn\u001b[39;00m \u001b[38;5;28;43mself\u001b[39;49m\u001b[43m.\u001b[49m\u001b[43m_sslobj\u001b[49m\u001b[43m.\u001b[49m\u001b[43mread\u001b[49m\u001b[43m(\u001b[49m\u001b[38;5;28;43mlen\u001b[39;49m\u001b[43m,\u001b[49m\u001b[43m \u001b[49m\u001b[43mbuffer\u001b[49m\u001b[43m)\u001b[49m\n\u001b[32m   1167\u001b[39m     \u001b[38;5;28;01melse\u001b[39;00m:\n\u001b[32m   1168\u001b[39m         \u001b[38;5;28;01mreturn\u001b[39;00m \u001b[38;5;28mself\u001b[39m._sslobj.read(\u001b[38;5;28mlen\u001b[39m)\n",
      "\u001b[31mKeyboardInterrupt\u001b[39m: "
     ]
    }
   ],
   "source": [
    "# Initialize the pose estimation model\n",
    "body = Body(\n",
    "    mode='balanced',  # Options: 'performance', 'lightweight', 'balanced'\n",
    "    backend='onnxruntime',\n",
    "    device='cpu'\n",
    ")\n",
    "\n",
    "# Open the video file\n",
    "video_path = trial_video_path\n",
    "cap = cv2.VideoCapture(video_path)\n",
    "\n",
    "# Prepare to write the output video\n",
    "output_path = 'trial_C0112.mp4'\n",
    "fourcc = cv2.VideoWriter_fourcc(*'mp4v')\n",
    "fps = cap.get(cv2.CAP_PROP_FPS)\n",
    "frame_size = (int(cap.get(cv2.CAP_PROP_FRAME_WIDTH)),\n",
    "              int(cap.get(cv2.CAP_PROP_FRAME_HEIGHT)))\n",
    "out = cv2.VideoWriter(output_path, fourcc, fps, frame_size)\n",
    "\n",
    "while cap.isOpened():\n",
    "    ret, frame = cap.read()\n",
    "    if not ret:\n",
    "        break\n",
    "\n",
    "    # Perform pose estimation\n",
    "    keypoints, scores = body(frame)\n",
    "\n",
    "    # Draw the skeleton on the frame\n",
    "    frame = draw_skeleton(frame, keypoints, scores, kpt_thr=0.5)\n",
    "\n",
    "    # Write the frame to the output video\n",
    "    out.write(frame)\n",
    "\n",
    "# Release resources\n",
    "cap.release()   \n",
    "out.release()\n",
    "cv2.destroyAllWindows()"
   ]
  },
  {
   "cell_type": "code",
   "execution_count": null,
   "metadata": {},
   "outputs": [],
   "source": []
  }
 ],
 "metadata": {
  "kernelspec": {
   "display_name": "move3d",
   "language": "python",
   "name": "python3"
  },
  "language_info": {
   "codemirror_mode": {
    "name": "ipython",
    "version": 3
   },
   "file_extension": ".py",
   "mimetype": "text/x-python",
   "name": "python",
   "nbconvert_exporter": "python",
   "pygments_lexer": "ipython3",
   "version": "3.11.11"
  }
 },
 "nbformat": 4,
 "nbformat_minor": 2
}
